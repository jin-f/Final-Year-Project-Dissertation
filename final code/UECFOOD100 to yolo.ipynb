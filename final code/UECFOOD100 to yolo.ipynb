{
 "cells": [
  {
   "cell_type": "code",
   "execution_count": 10,
   "id": "f384bffd",
   "metadata": {},
   "outputs": [],
   "source": [
    "import os\n",
    "import csv"
   ]
  },
  {
   "cell_type": "code",
   "execution_count": 11,
   "id": "c8bcde15",
   "metadata": {},
   "outputs": [],
   "source": [
    "# script creates .names folder for yolo and creates .txt files for each image in the dataset in the same folder\n",
    "dataset_path = 'UECFOOD100/'"
   ]
  },
  {
   "cell_type": "code",
   "execution_count": 34,
   "id": "37a00bf9",
   "metadata": {},
   "outputs": [],
   "source": [
    "# create .names folder\n",
    "# data folder can be created manually since we need to specifiy files paths there\n",
    "\n",
    "with open(os.path.join(dataset_path, 'category.txt'), 'r') as file:\n",
    "    reader = csv.reader(file, delimiter='\\t')\n",
    "    next(reader)\n",
    "    with open('food.names' , 'w') as f:\n",
    "        for row in reader:\n",
    "            f.write(row[1])\n",
    "            f.write('\\n')"
   ]
  },
  {
   "cell_type": "code",
   "execution_count": 15,
   "id": "0826a75d",
   "metadata": {},
   "outputs": [],
   "source": [
    "with open('food.data', 'w') as f:\n",
    "    f.write(\"classes= 100\" + '\\n')\n",
    "    f.write(\"train= data/train.txt\" + '\\n')\n",
    "    f.write(\"valid= data/test.txt\" + '\\n')\n",
    "    f.write(\"names= data/food.names\" + '\\n')\n",
    "    f.write(\"backup = /mydrive/yolov3_food/backup/\")"
   ]
  },
  {
   "cell_type": "code",
   "execution_count": 14,
   "id": "bdca6552",
   "metadata": {},
   "outputs": [],
   "source": [
    "# create bounding box files for each image and create new image folder for all images\n",
    "from PIL import Image\n",
    "\n",
    "def convert_to_yolo(img_size, box):\n",
    "    # credit: http://bennycheung.github.io/yolo-for-real-time-food-detection\n",
    "    # img_bbox file is [0:img] [1:left X] [2:bottom Y] [3:right X] [4:top Y]\n",
    "    dw = 1./img_size[0]\n",
    "    dh = 1./img_size[1]\n",
    "    x = (int(box[1]) + int(box[3]))/2.0\n",
    "    y = (int(box[2]) + int(box[4]))/2.0\n",
    "    w = abs(int(box[3]) - int(box[1]))\n",
    "    h = abs(int(box[4]) - int(box[2]))\n",
    "    x = x*dw\n",
    "    w = w*dw\n",
    "    y = y*dh\n",
    "    h = h*dh\n",
    "    # Yolo bbox is center x, y and width, height\n",
    "    return (x,y,w,h)\n",
    "\n",
    "\n",
    "train_file = open('train.txt', 'w')\n",
    "test_file = open('test.txt', 'w')\n",
    "count = 1\n",
    "percentage = 10 # percentage split for training and testing \n",
    "\n",
    "curr_id = 1\n",
    "with open('food.names' , 'r') as file:\n",
    "    reader = csv.reader(file, delimiter='\\t')\n",
    "    for row in reader:\n",
    "        img_dir = os.path.join(dataset_path, str(curr_id))\n",
    "        with open(os.path.join(img_dir, 'bb_info.txt'), 'r') as f:\n",
    "            bb_reader = csv.reader(f, delimiter=' ')\n",
    "            next(bb_reader)\n",
    "            for box_row in bb_reader:\n",
    "                curr_dir = os.getcwd().split('/')[-1]\n",
    "                img_filename = os.path.join(img_dir, box_row[0] + '.jpg')\n",
    "                # train.txt and test.txt split made here\n",
    "                # filename written to .txt is different cuz they if they way they are saved in colab, the data/ folder is the folder in darknet\n",
    "                if count%percentage == 0:\n",
    "                    test_file.write('data/' + curr_dir + '/' + img_filename + '\\n')\n",
    "                else:\n",
    "                    train_file.write('data/' + curr_dir + '/' + img_filename + '\\n')\n",
    "                count += 1\n",
    "                \n",
    "                # creating each image .txt file with bounding box coordinates for yolo format\n",
    "                box_file = os.path.join(img_dir, box_row[0] + '.txt')\n",
    "                with open(box_file, 'w') as f_box:\n",
    "                    img = Image.open(img_filename)\n",
    "                    yolo_box = convert_to_yolo(img.size, box_row)\n",
    "                    f_box.write(str(curr_id-1) + ' ' + ' '.join(map(str, yolo_box)) + '\\n')\n",
    "                    img.close()\n",
    "        curr_id += 1\n",
    "        \n",
    "train_file.close()\n",
    "test_file.close()\n",
    "                "
   ]
  },
  {
   "cell_type": "code",
   "execution_count": null,
   "id": "a2d400d3",
   "metadata": {},
   "outputs": [],
   "source": []
  }
 ],
 "metadata": {
  "kernelspec": {
   "display_name": "Python 3 (ipykernel)",
   "language": "python",
   "name": "python3"
  },
  "language_info": {
   "codemirror_mode": {
    "name": "ipython",
    "version": 3
   },
   "file_extension": ".py",
   "mimetype": "text/x-python",
   "name": "python",
   "nbconvert_exporter": "python",
   "pygments_lexer": "ipython3",
   "version": "3.8.15"
  }
 },
 "nbformat": 4,
 "nbformat_minor": 5
}
